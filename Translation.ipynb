{
 "cells": [
  {
   "cell_type": "code",
   "execution_count": null,
   "id": "b738db90",
   "metadata": {},
   "outputs": [],
   "source": [
    "malignant\n",
    "benign"
   ]
  },
  {
   "cell_type": "code",
   "execution_count": 1,
   "id": "c5e36c1e",
   "metadata": {},
   "outputs": [
    {
     "name": "stdout",
     "output_type": "stream",
     "text": [
      "C:\\Users\\a0952\\OneDrive\\MASKRCNN\n"
     ]
    }
   ],
   "source": [
    "import os\n",
    "\n",
    "print(os.getcwd())"
   ]
  },
  {
   "cell_type": "code",
   "execution_count": null,
   "id": "91fb0ee3",
   "metadata": {},
   "outputs": [],
   "source": [
    "# 平移"
   ]
  },
  {
   "cell_type": "code",
   "execution_count": 1,
   "id": "b0f49ba4",
   "metadata": {},
   "outputs": [],
   "source": [
    "import cv2\n",
    "import numpy as np\n",
    "import os"
   ]
  },
  {
   "cell_type": "code",
   "execution_count": 2,
   "id": "c6d760d3",
   "metadata": {},
   "outputs": [],
   "source": [
    "file_dir = './TrainData_Mask/benign/'"
   ]
  },
  {
   "cell_type": "code",
   "execution_count": 3,
   "id": "30af33e3",
   "metadata": {},
   "outputs": [],
   "source": [
    "for img_name in os.listdir(file_dir):\n",
    "    img_path = file_dir + img_name\n",
    "    img = cv2.imread(img_path)\n",
    "    height, width, _ = img.shape\n",
    "    # 平移矩陣：[[1,0,x],[0,1,y]]\n",
    "    M = np.float32([[1, 0, 10],[0, 1, 10]])\n",
    "    im = cv2.warpAffine(img, M, (width, height))\n",
    "    cv2.imwrite(file_dir + img_name[0:-4] + '.png', im)"
   ]
  },
  {
   "cell_type": "code",
   "execution_count": null,
   "id": "8554ad95",
   "metadata": {},
   "outputs": [],
   "source": []
  },
  {
   "cell_type": "code",
   "execution_count": null,
   "id": "36a66e3f",
   "metadata": {},
   "outputs": [],
   "source": [
    "---------------------------------------------------"
   ]
  },
  {
   "cell_type": "code",
   "execution_count": 4,
   "id": "336a1bed",
   "metadata": {},
   "outputs": [],
   "source": [
    "# im = cv2.imread('./0001.jpg')\n",
    "# height, width, _ = im.shape"
   ]
  },
  {
   "cell_type": "code",
   "execution_count": 4,
   "id": "a5c3546d",
   "metadata": {},
   "outputs": [
    {
     "data": {
      "text/plain": [
       "-1"
      ]
     },
     "execution_count": 4,
     "metadata": {},
     "output_type": "execute_result"
    }
   ],
   "source": [
    "# 平移矩陣：[[1,0,x],[0,1,y]]\n",
    "M = np.float32([[1, 0, 70],[0, 1, 80]])\n",
    "im = cv2.warpAffine(im, M, (width, height))\n",
    "cv2.imshow('image', im)\n",
    "cv2.waitKey(0)"
   ]
  },
  {
   "cell_type": "code",
   "execution_count": null,
   "id": "1c13f6a0",
   "metadata": {},
   "outputs": [],
   "source": [
    "# 翻轉"
   ]
  },
  {
   "cell_type": "code",
   "execution_count": null,
   "id": "058b7638",
   "metadata": {},
   "outputs": [],
   "source": [
    "malignant\n",
    "benign"
   ]
  },
  {
   "cell_type": "code",
   "execution_count": 1,
   "id": "bb416335",
   "metadata": {},
   "outputs": [],
   "source": [
    "import cv2\n",
    "import numpy as np\n",
    "import os"
   ]
  },
  {
   "cell_type": "code",
   "execution_count": 2,
   "id": "db3454d3",
   "metadata": {},
   "outputs": [],
   "source": [
    "file_dir = './TrainData_O/benign/'"
   ]
  },
  {
   "cell_type": "code",
   "execution_count": 3,
   "id": "624ec2ec",
   "metadata": {},
   "outputs": [],
   "source": [
    "for img_name in os.listdir(file_dir):\n",
    "    img_path = file_dir + img_name\n",
    "    img = cv2.imread(img_path)\n",
    "    \n",
    "    # 模式 0:垂直 1:水平 -1:垂直與水平\n",
    "    im = cv2.flip(img, 1)\n",
    "    cv2.imwrite(file_dir + img_name[0:-4] + '.png', im)"
   ]
  },
  {
   "cell_type": "code",
   "execution_count": null,
   "id": "10a05ec0",
   "metadata": {},
   "outputs": [],
   "source": [
    "----------------------------------------------------------"
   ]
  },
  {
   "cell_type": "code",
   "execution_count": null,
   "id": "ba1cb942",
   "metadata": {},
   "outputs": [],
   "source": [
    "# im = cv2.imread('./0001.jpg')\n",
    "# height, width, _ = im.shape"
   ]
  },
  {
   "cell_type": "code",
   "execution_count": 5,
   "id": "b4b35d66",
   "metadata": {},
   "outputs": [
    {
     "data": {
      "text/plain": [
       "-1"
      ]
     },
     "execution_count": 5,
     "metadata": {},
     "output_type": "execute_result"
    }
   ],
   "source": [
    "# # 模式 0:垂直 1:水平 -1:垂直與水平\n",
    "# im = cv2.flip(im, 0)\n",
    "# cv2.imshow('image', im)\n",
    "# cv2.waitKey(0)"
   ]
  },
  {
   "cell_type": "code",
   "execution_count": null,
   "id": "cbc4d371",
   "metadata": {},
   "outputs": [],
   "source": [
    "# 亮度與對比度調整"
   ]
  },
  {
   "cell_type": "code",
   "execution_count": null,
   "id": "0b37679b",
   "metadata": {},
   "outputs": [],
   "source": [
    "malignant\n",
    "benign"
   ]
  },
  {
   "cell_type": "code",
   "execution_count": 1,
   "id": "0d40fd66",
   "metadata": {},
   "outputs": [],
   "source": [
    "file_dir = './TrainData_Mask/benign/'"
   ]
  },
  {
   "cell_type": "code",
   "execution_count": 2,
   "id": "3344192f",
   "metadata": {},
   "outputs": [],
   "source": [
    "import cv2\n",
    "import numpy as np\n",
    "import os"
   ]
  },
  {
   "cell_type": "code",
   "execution_count": 3,
   "id": "ea76d948",
   "metadata": {},
   "outputs": [],
   "source": [
    "for img_name in os.listdir(file_dir):\n",
    "    img_path = file_dir + img_name\n",
    "    img = cv2.imread(img_path)\n",
    "    \n",
    "    contrast = 0\n",
    "    brightness = 30\n",
    "    output = img * (contrast/127 + 1) - contrast + brightness # 轉換公式\n",
    "    # 轉換公式參考 https://stackoverflow.com/questions/50474302/how-do-i-adjust-brightness-contrast-and-vibrance-with-opencv-python\n",
    "\n",
    "    # 調整後的數值大多為浮點數，且可能會小於 0 或大於 255\n",
    "    # 為了保持像素色彩區間為 0～255 的整數，所以再使用 np.clip() 和 np.uint8() 進行轉換\n",
    "    output = np.clip(output, 0, 255)\n",
    "    output = np.uint8(output)\n",
    "    cv2.imwrite(file_dir + img_name[0:-4] + '.png', output)"
   ]
  },
  {
   "cell_type": "code",
   "execution_count": null,
   "id": "5da815db",
   "metadata": {},
   "outputs": [],
   "source": [
    "--------------------------------------------------------------"
   ]
  },
  {
   "cell_type": "code",
   "execution_count": 3,
   "id": "62fd9bad",
   "metadata": {},
   "outputs": [
    {
     "name": "stdout",
     "output_type": "stream",
     "text": [
      "C:\\Users\\a0952\\OneDrive\\MASKRCNN\n"
     ]
    }
   ],
   "source": [
    "import os\n",
    "\n",
    "print(os.getcwd())"
   ]
  },
  {
   "cell_type": "code",
   "execution_count": 1,
   "id": "94ddc57c",
   "metadata": {},
   "outputs": [],
   "source": [
    "import cv2\n",
    "import numpy as np\n",
    "img = cv2.imread('./0001.jpg')"
   ]
  },
  {
   "cell_type": "code",
   "execution_count": 2,
   "id": "decfe303",
   "metadata": {},
   "outputs": [],
   "source": [
    "contrast = 0\n",
    "brightness = -50\n",
    "output = img * (contrast/127 + 1) - contrast + brightness # 轉換公式\n",
    "# 轉換公式參考 https://stackoverflow.com/questions/50474302/how-do-i-adjust-brightness-contrast-and-vibrance-with-opencv-python\n",
    "\n",
    "# 調整後的數值大多為浮點數，且可能會小於 0 或大於 255\n",
    "# 為了保持像素色彩區間為 0～255 的整數，所以再使用 np.clip() 和 np.uint8() 進行轉換\n",
    "output = np.clip(output, 0, 255)\n",
    "output = np.uint8(output)"
   ]
  },
  {
   "cell_type": "code",
   "execution_count": 3,
   "id": "7e08ebd5",
   "metadata": {},
   "outputs": [],
   "source": [
    "cv2.imshow('oxxostudio1', img)    # 原始圖片\n",
    "cv2.imshow('oxxostudio2', output) # 調整亮度對比的圖片\n",
    "cv2.waitKey(0)                    # 按下任意鍵停止\n",
    "cv2.destroyAllWindows()"
   ]
  },
  {
   "cell_type": "code",
   "execution_count": null,
   "id": "86b6660d",
   "metadata": {},
   "outputs": [],
   "source": []
  },
  {
   "cell_type": "code",
   "execution_count": 1,
   "id": "85bae623",
   "metadata": {},
   "outputs": [],
   "source": [
    "from PIL import Image\n",
    "import numpy as np"
   ]
  },
  {
   "cell_type": "code",
   "execution_count": 4,
   "id": "9c1b3fe5",
   "metadata": {},
   "outputs": [
    {
     "data": {
      "text/plain": [
       "(512, 512)"
      ]
     },
     "execution_count": 4,
     "metadata": {},
     "output_type": "execute_result"
    }
   ],
   "source": [
    "img = Image.open('./test/test_new.png')\n",
    "img_array = np.array(img)\n",
    "img_array.shape"
   ]
  },
  {
   "cell_type": "code",
   "execution_count": 5,
   "id": "69acfa0d",
   "metadata": {},
   "outputs": [
    {
     "data": {
      "text/plain": [
       "('L',)"
      ]
     },
     "execution_count": 5,
     "metadata": {},
     "output_type": "execute_result"
    }
   ],
   "source": [
    "img.getbands()"
   ]
  },
  {
   "cell_type": "code",
   "execution_count": 4,
   "id": "63d2768a",
   "metadata": {},
   "outputs": [
    {
     "data": {
      "text/plain": [
       "('R', 'G', 'B')"
      ]
     },
     "execution_count": 4,
     "metadata": {},
     "output_type": "execute_result"
    }
   ],
   "source": [
    "img = Image.fromarray(np.uint8(img_array))\n",
    "img.getbands()"
   ]
  },
  {
   "cell_type": "code",
   "execution_count": 5,
   "id": "ec07e33f",
   "metadata": {},
   "outputs": [
    {
     "data": {
      "text/plain": [
       "dtype('uint8')"
      ]
     },
     "execution_count": 5,
     "metadata": {},
     "output_type": "execute_result"
    }
   ],
   "source": [
    "img_array.dtype"
   ]
  },
  {
   "cell_type": "code",
   "execution_count": 8,
   "id": "d2637e37",
   "metadata": {},
   "outputs": [
    {
     "name": "stdout",
     "output_type": "stream",
     "text": [
      "('L',)\n"
     ]
    }
   ],
   "source": [
    "from PIL import Image\n",
    "import numpy as np\n",
    "\n",
    "img = Image.open('./test/malignant (2)_mask.png').convert('L')\n",
    "print(img.getbands()) # ('P',) 这种是有彩色的，而L是没有彩色的\n",
    "img.save('test_new.png') # 转换后的进行保存"
   ]
  },
  {
   "cell_type": "code",
   "execution_count": null,
   "id": "d885a484",
   "metadata": {},
   "outputs": [],
   "source": []
  }
 ],
 "metadata": {
  "kernelspec": {
   "display_name": "Python 3 (ipykernel)",
   "language": "python",
   "name": "python3"
  },
  "language_info": {
   "codemirror_mode": {
    "name": "ipython",
    "version": 3
   },
   "file_extension": ".py",
   "mimetype": "text/x-python",
   "name": "python",
   "nbconvert_exporter": "python",
   "pygments_lexer": "ipython3",
   "version": "3.9.7"
  }
 },
 "nbformat": 4,
 "nbformat_minor": 5
}
