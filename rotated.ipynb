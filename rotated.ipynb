{
 "cells": [
  {
   "cell_type": "code",
   "execution_count": 1,
   "id": "5a186147",
   "metadata": {},
   "outputs": [],
   "source": [
    "import cv2\n",
    "import numpy as np\n",
    "import os.path\n",
    "import copy"
   ]
  },
  {
   "cell_type": "code",
   "execution_count": null,
   "id": "4786a947",
   "metadata": {},
   "outputs": [],
   "source": [
    "malignant\n",
    "benign"
   ]
  },
  {
   "cell_type": "code",
   "execution_count": null,
   "id": "6a03280d",
   "metadata": {},
   "outputs": [],
   "source": []
  },
  {
   "cell_type": "code",
   "execution_count": null,
   "id": "809c00ed",
   "metadata": {},
   "outputs": [],
   "source": [
    "Mask使用"
   ]
  },
  {
   "cell_type": "code",
   "execution_count": 2,
   "id": "3fcb658b",
   "metadata": {},
   "outputs": [],
   "source": [
    "file_dir = './TrainData_Mask/benign/'"
   ]
  },
  {
   "cell_type": "code",
   "execution_count": 3,
   "id": "d215fcfb",
   "metadata": {},
   "outputs": [],
   "source": [
    "import os\n",
    "import cv2\n",
    "import numpy as np\n",
    "\n",
    "def rotate(image, angle, center=None, scale=1.0):\n",
    "    (h, w) = image.shape[:2]\n",
    "    id = np.max(image)\n",
    "    # If no rotation center is specified, the center of the image is set as the rotation center\n",
    "    if center is None:\n",
    "        center = (w / 2, h / 2)\n",
    "    m = cv2.getRotationMatrix2D(center, angle, scale)\n",
    "    rotated = cv2.warpAffine(image, m, (w, h))\n",
    "    rotated_mask = (rotated != 0)\n",
    "    rotated_mask = (rotated_mask*id).astype(np.uint8)\n",
    "    return rotated_mask"
   ]
  },
  {
   "cell_type": "code",
   "execution_count": 4,
   "id": "1dd6be3b",
   "metadata": {},
   "outputs": [],
   "source": [
    "for img_name in os.listdir(file_dir):\n",
    "    img_path = file_dir + img_name\n",
    "    img = cv2.imread(img_path)\n",
    "\n",
    "    rotated_330 = rotate(img, 330)\n",
    "    cv2.imwrite(file_dir + img_name[0:-4] + '.png', rotated_330)\n"
   ]
  },
  {
   "cell_type": "code",
   "execution_count": null,
   "id": "652e067c",
   "metadata": {},
   "outputs": [],
   "source": []
  },
  {
   "cell_type": "code",
   "execution_count": null,
   "id": "477cdeac",
   "metadata": {},
   "outputs": [],
   "source": [
    "原始圖使用"
   ]
  },
  {
   "cell_type": "code",
   "execution_count": null,
   "id": "2a907126",
   "metadata": {},
   "outputs": [],
   "source": [
    "malignant\n",
    "benign"
   ]
  },
  {
   "cell_type": "code",
   "execution_count": 5,
   "id": "25ec2098",
   "metadata": {},
   "outputs": [],
   "source": [
    "import cv2\n",
    "import numpy as np\n",
    "import os.path\n",
    "import copy"
   ]
  },
  {
   "cell_type": "code",
   "execution_count": 6,
   "id": "c5bd51b6",
   "metadata": {},
   "outputs": [],
   "source": [
    "file_dir = './TrainData_O/benign/'"
   ]
  },
  {
   "cell_type": "code",
   "execution_count": 7,
   "id": "fa4d89e5",
   "metadata": {},
   "outputs": [],
   "source": [
    "def rotate(image, angle, center=None, scale=1.0):\n",
    "    (h, w) = image.shape[:2]\n",
    "    # If no rotation center is specified, the center of the image is set as the rotation center\n",
    "    if center is None:\n",
    "        center = (w / 2, h / 2)\n",
    "    m = cv2.getRotationMatrix2D(center, angle, scale)\n",
    "    rotated = cv2.warpAffine(image, m, (w, h))\n",
    "    return rotated"
   ]
  },
  {
   "cell_type": "code",
   "execution_count": 8,
   "id": "fc3f52d5",
   "metadata": {},
   "outputs": [],
   "source": [
    "for img_name in os.listdir(file_dir):\n",
    "    img_path = file_dir + img_name\n",
    "    img = cv2.imread(img_path)\n",
    "    # cv2.imshow(\"1\",img)\n",
    "    # cv2.waitKey(5000)\n",
    "    \n",
    "    rotated_330 = rotate(img, 330)\n",
    "    cv2.imwrite(file_dir + img_name[0:-4] + '.png', rotated_330)"
   ]
  },
  {
   "cell_type": "code",
   "execution_count": null,
   "id": "0cdd576a",
   "metadata": {},
   "outputs": [],
   "source": []
  }
 ],
 "metadata": {
  "kernelspec": {
   "display_name": "Python 3 (ipykernel)",
   "language": "python",
   "name": "python3"
  },
  "language_info": {
   "codemirror_mode": {
    "name": "ipython",
    "version": 3
   },
   "file_extension": ".py",
   "mimetype": "text/x-python",
   "name": "python",
   "nbconvert_exporter": "python",
   "pygments_lexer": "ipython3",
   "version": "3.9.7"
  }
 },
 "nbformat": 4,
 "nbformat_minor": 5
}
