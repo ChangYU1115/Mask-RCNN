{
 "cells": [
  {
   "cell_type": "code",
   "execution_count": 1,
   "id": "e7b8e6ab",
   "metadata": {},
   "outputs": [],
   "source": [
    "from PIL import  Image\n",
    "import os"
   ]
  },
  {
   "cell_type": "code",
   "execution_count": 2,
   "id": "722aaf44",
   "metadata": {},
   "outputs": [],
   "source": [
    "path=\"./TrainData/normal/\""
   ]
  },
  {
   "cell_type": "code",
   "execution_count": 3,
   "id": "e32342ea",
   "metadata": {},
   "outputs": [
    {
     "name": "stdout",
     "output_type": "stream",
     "text": [
      "['normal (1).png', 'normal (1)_mask.png', 'normal (10).png', 'normal (10)_mask.png', 'normal (100).png', 'normal (100)_mask.png', 'normal (101).png', 'normal (101)_mask.png', 'normal (102).png', 'normal (102)_mask.png', 'normal (103).png', 'normal (103)_mask.png', 'normal (104).png', 'normal (104)_mask.png', 'normal (105).png', 'normal (105)_mask.png', 'normal (106).png', 'normal (106)_mask.png', 'normal (107).png', 'normal (107)_mask.png', 'normal (108).png', 'normal (108)_mask.png', 'normal (11).png', 'normal (11)_mask.png', 'normal (12).png', 'normal (12)_mask.png', 'normal (13).png', 'normal (13)_mask.png', 'normal (14).png', 'normal (14)_mask.png', 'normal (15).png', 'normal (15)_mask.png', 'normal (16).png', 'normal (16)_mask.png', 'normal (17).png', 'normal (17)_mask.png', 'normal (18).png', 'normal (18)_mask.png', 'normal (19).png', 'normal (19)_mask.png', 'normal (2).png', 'normal (2)_mask.png', 'normal (20).png', 'normal (20)_mask.png', 'normal (21).png', 'normal (21)_mask.png', 'normal (22).png', 'normal (22)_mask.png', 'normal (23).png', 'normal (23)_mask.png', 'normal (24).png', 'normal (24)_mask.png', 'normal (25).png', 'normal (25)_mask.png', 'normal (26).png', 'normal (26)_mask.png', 'normal (27).png', 'normal (27)_mask.png', 'normal (28).png', 'normal (28)_mask.png', 'normal (29).png', 'normal (29)_mask.png', 'normal (3).png', 'normal (3)_mask.png', 'normal (30).png', 'normal (30)_mask.png', 'normal (31).png', 'normal (31)_mask.png', 'normal (32).png', 'normal (32)_mask.png', 'normal (33).png', 'normal (33)_mask.png', 'normal (34).png', 'normal (34)_mask.png', 'normal (35).png', 'normal (35)_mask.png', 'normal (36).png', 'normal (36)_mask.png', 'normal (37).png', 'normal (37)_mask.png', 'normal (38).png', 'normal (38)_mask.png', 'normal (39).png', 'normal (39)_mask.png', 'normal (4).png', 'normal (4)_mask.png', 'normal (40).png', 'normal (40)_mask.png', 'normal (41).png', 'normal (41)_mask.png', 'normal (42).png', 'normal (42)_mask.png', 'normal (43).png', 'normal (43)_mask.png', 'normal (44).png', 'normal (44)_mask.png', 'normal (45).png', 'normal (45)_mask.png', 'normal (46).png', 'normal (46)_mask.png', 'normal (47).png', 'normal (47)_mask.png', 'normal (48).png', 'normal (48)_mask.png', 'normal (49).png', 'normal (49)_mask.png', 'normal (5).png', 'normal (5)_mask.png', 'normal (50).png', 'normal (50)_mask.png', 'normal (51).png', 'normal (51)_mask.png', 'normal (52).png', 'normal (52)_mask.png', 'normal (53).png', 'normal (53)_mask.png', 'normal (54).png', 'normal (54)_mask.png', 'normal (55).png', 'normal (55)_mask.png', 'normal (56).png', 'normal (56)_mask.png', 'normal (57).png', 'normal (57)_mask.png', 'normal (58).png', 'normal (58)_mask.png', 'normal (59).png', 'normal (59)_mask.png', 'normal (6).png', 'normal (6)_mask.png', 'normal (60).png', 'normal (60)_mask.png', 'normal (61).png', 'normal (61)_mask.png', 'normal (62).png', 'normal (62)_mask.png', 'normal (63).png', 'normal (63)_mask.png', 'normal (64).png', 'normal (64)_mask.png', 'normal (65).png', 'normal (65)_mask.png', 'normal (66).png', 'normal (66)_mask.png', 'normal (67).png', 'normal (67)_mask.png', 'normal (68).png', 'normal (68)_mask.png', 'normal (69).png', 'normal (69)_mask.png', 'normal (7).png', 'normal (7)_mask.png', 'normal (70).png', 'normal (70)_mask.png', 'normal (71).png', 'normal (71)_mask.png', 'normal (72).png', 'normal (72)_mask.png', 'normal (73).png', 'normal (73)_mask.png', 'normal (74).png', 'normal (74)_mask.png', 'normal (75).png', 'normal (75)_mask.png', 'normal (76).png', 'normal (76)_mask.png', 'normal (77).png', 'normal (77)_mask.png', 'normal (78).png', 'normal (78)_mask.png', 'normal (79).png', 'normal (79)_mask.png', 'normal (8).png', 'normal (8)_mask.png', 'normal (80).png', 'normal (80)_mask.png', 'normal (81).png', 'normal (81)_mask.png', 'normal (82).png', 'normal (82)_mask.png', 'normal (83).png', 'normal (83)_mask.png', 'normal (84).png', 'normal (84)_mask.png', 'normal (85).png', 'normal (85)_mask.png', 'normal (86).png', 'normal (86)_mask.png', 'normal (87).png', 'normal (87)_mask.png', 'normal (88).png', 'normal (88)_mask.png', 'normal (89).png', 'normal (89)_mask.png', 'normal (9).png', 'normal (9)_mask.png', 'normal (90).png', 'normal (90)_mask.png', 'normal (91).png', 'normal (91)_mask.png', 'normal (92).png', 'normal (92)_mask.png', 'normal (93).png', 'normal (93)_mask.png', 'normal (94).png', 'normal (94)_mask.png', 'normal (95).png', 'normal (95)_mask.png', 'normal (96).png', 'normal (96)_mask.png', 'normal (97).png', 'normal (97)_mask.png', 'normal (98).png', 'normal (98)_mask.png', 'normal (99).png', 'normal (99)_mask.png']\n"
     ]
    }
   ],
   "source": [
    "for maindir, subdir,file_name_list in os.walk(path):\n",
    "    print(file_name_list)\n",
    "    for file_name in file_name_list:\n",
    "        image=os.path.join(maindir,file_name) #獲取每張圖片的路徑\n",
    "        file=Image.open(image)\n",
    "        out=file.resize((512,512),Image.ANTIALIAS)  #以高質量修改圖片尺寸爲（512，512）\n",
    "        out.save(image)  "
   ]
  }
 ],
 "metadata": {
  "kernelspec": {
   "display_name": "Python 3 (ipykernel)",
   "language": "python",
   "name": "python3"
  },
  "language_info": {
   "codemirror_mode": {
    "name": "ipython",
    "version": 3
   },
   "file_extension": ".py",
   "mimetype": "text/x-python",
   "name": "python",
   "nbconvert_exporter": "python",
   "pygments_lexer": "ipython3",
   "version": "3.9.7"
  }
 },
 "nbformat": 4,
 "nbformat_minor": 5
}
